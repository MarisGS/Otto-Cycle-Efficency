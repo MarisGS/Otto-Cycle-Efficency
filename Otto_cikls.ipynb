{
  "cells": [
    {
      "cell_type": "markdown",
      "metadata": {
        "id": "NNiRDfuFc77L"
      },
      "source": [
        "<center> <h1> Otto cikla lietderības koeficients"
      ]
    },
    {
      "cell_type": "markdown",
      "metadata": {
        "id": "u6LznGdqc77P"
      },
      "source": [
        "Virzuļmotora darba ciklu var vienkāršoti imitēt ar tā dēvēto Otto ciklu.\n",
        "Tajā notiek četri procesi:\n",
        "- saspiede;\n",
        "- siltuma pievade konstantā tilpumā;\n",
        "- izplete;\n",
        "- siltuma aizvade konstantā tilpumā.\n",
        "\n",
        "Tilpuma un spiediena izmaiņas Otto ciklā parādītas 1. attēlā.\n",
        "\n",
        "![PV%20Otto.jpg](attachment:PV%20Otto.jpg)\n",
        "<center> 1. att. Tilpuma un spiediena izmaiņas Otto ciklā   <br>\n",
        "\n",
        "\n",
        "Otto cikla lietderību var raksturot, aprēķinot, cik daudz no pievadītā siltuma var pārveidot darbā: <br>\n",
        "    $$\\eta_{Otto}=\\frac {paveiktais \\: darbs}{pievaditais \\: siltums}$$\n",
        "\n",
        "Pielietojot termodinamikas 1. vienādojumu, šo sakarību var izteikt ar praktiski lietojamiem parametriem:<br>\n",
        "    \n",
        "\n",
        "\n",
        " $$\\eta_{Otto}=1-\\frac {1}{r_c ^ {\\gamma -1}}$$\n",
        " kur<br>\n",
        "&emsp;&emsp;$r_c$ - kompresijas pakāpe; <br>\n",
        "&emsp;&emsp;$\\gamma$ - siltumietilpību attiecība. <br>\n",
        "    \n",
        "    <br>\n",
        "    \n",
        " Kompresijas pakāpe dzirksteļaizdedzes motoriem parasti ir robežās no 7.5 līdz 10, savukārt kompresijas aizdedzes motoriem no 15 līdz 22. <br>\n",
        "    Siltumietilpību konstantā spiedienā ($c_p$) un konstantā tilpumā ($c_v$) attiecība $\\gamma$ gaisam normālos apstākļos ir aptuveni 1.4. Gāzu maisījuma motorā parasti pieņem $\\gamma = 1.3$. Salīdzinājumam, inertajām gāzēm tās vērtība ir aptuveni 1.6. <br>\n",
        "    \n",
        "   Sastādītajā $Python$ kodā ir iespēja mainīt $\\gamma$ vērtību, un vērot, kā mainās Otto cikla lietderības koefienients, atkarībā no kompresijas pakāpes.\n"
      ]
    },
    {
      "cell_type": "code",
      "execution_count": null,
      "metadata": {
        "id": "mx6860MSc77R",
        "outputId": "4102d80e-8ee9-4dfa-e546-794c76890c04"
      },
      "outputs": [
        {
          "data": {
            "image/png": "[encoded data removed]",
            "text/plain": [
              "<Figure size 432x288 with 1 Axes>"
            ]
          },
          "metadata": {
            "needs_background": "light"
          },
          "output_type": "display_data"
        }
      ],
      "source": [
        "# sākumā ielādē papildus bibliotēkas ''\n",
        "\n",
        "import matplotlib.pyplot as plt\n",
        "from matplotlib.ticker import (MultipleLocator, FormatStrFormatter,AutoMinorLocator)\n",
        "import numpy as np\n",
        "\n",
        "# piešķir vērtības siltumietilpību attiecībai Gamma, vienā un otrā scenārijā:\n",
        "\n",
        "gamma=1.3\n",
        "gamma2=1.6\n",
        "\n",
        "# iniciē parametrus: \n",
        "\n",
        "CR=np.zeros(29) +1\n",
        "CR2=np.zeros(29) +1\n",
        "\n",
        "CR[0]=1\n",
        "CR2[0]=1\n",
        "\n",
        "eta=np.zeros(29)\n",
        "eta2=np.zeros(29)\n",
        "\n",
        "\n",
        "# sāk aprēķinu ciklā:\n",
        "\n",
        "for ii in range(1,28):\n",
        "\n",
        "        eta[ii]= (1-1/CR[ii]**(gamma-1))*100\n",
        "       \n",
        "        eta2[ii]=(1-(1/CR2[ii]**(gamma2-1)))*100 \n",
        "       \n",
        "    \n",
        "    \n",
        "        CR[ii+1]=CR[ii]+1\n",
        "        CR2[ii+1]=CR2[ii]+1\n",
        "\n",
        "#sagatavo un parāda diagrammu\n",
        "\n",
        "\n",
        "Gamma_str=str(round(gamma,2))\n",
        "Gamma_str2=str(round(gamma2,2))\n",
        "\n",
        "label1=('$\\gamma$='+Gamma_str)\n",
        "label2=('$\\gamma$='+Gamma_str2)\n",
        "\n",
        "\n",
        "fig, ax = plt.subplots()\n",
        "ax.grid()\n",
        "ax.set_ylabel('Lietderības koeficients, %')\n",
        "ax.set_xlabel('Kompresijas pakāpe')\n",
        "\n",
        "maxval=np.max([np.max(eta2)])\n",
        "#minval=np.min([np.min(T_cyl_a), np.min(T_cyl_b)])\n",
        "ylim_1=0\n",
        "ylim_2=maxval+10\n",
        "\n",
        "ax.set_xlim(0, 25)\n",
        "ax.set_ylim(ylim_1, ylim_2)\n",
        "#ax.xaxis.set_major_locator(MultipleLocator(1)) # distribute major ticks on x axis\n",
        "line, = ax.plot(CR,eta, label=label1)\n",
        "line2, = ax.plot(CR2,eta2, label=label2)\n",
        "\n",
        "ax.legend()\n",
        "plt.show()"
      ]
    },
    {
      "cell_type": "markdown",
      "metadata": {
        "id": "SEotE6rYc77T"
      },
      "source": [
        "<center> <h2> Izmantotā literatūra"
      ]
    },
    {
      "cell_type": "markdown",
      "metadata": {
        "id": "xR6ULm3sc77U"
      },
      "source": [
        "1. *J. B. Heywood*, ***Internal Combustion Engine Fundamentals***, 2018.\n",
        "2. *R. Stone*, ***Internal Combustion Engines***, 1999."
      ]
    },
    {
      "cell_type": "code",
      "execution_count": 1,
      "metadata": {
        "id": "bvrmK44Rc77V",
        "outputId": "52a71af8-19f2-44b0-b93a-7a7851140a9a",
        "colab": {
          "base_uri": "https://localhost:8080/",
          "height": 373
        }
      },
      "outputs": [
        {
          "output_type": "error",
          "ename": "ModuleNotFoundError",
          "evalue": "ignored",
          "traceback": [
            "\u001b[0;31m---------------------------------------------------------------------------\u001b[0m",
            "\u001b[0;31mModuleNotFoundError\u001b[0m                       Traceback (most recent call last)",
            "\u001b[0;32m<ipython-input-1-3ce51326162b>\u001b[0m in \u001b[0;36m<module>\u001b[0;34m\u001b[0m\n\u001b[1;32m      2\u001b[0m \u001b[0;32mfrom\u001b[0m \u001b[0mipywidgets\u001b[0m \u001b[0;32mimport\u001b[0m \u001b[0minteractive\u001b[0m\u001b[0;34m,\u001b[0m \u001b[0mfixed\u001b[0m\u001b[0;34m\u001b[0m\u001b[0;34m\u001b[0m\u001b[0m\n\u001b[1;32m      3\u001b[0m \u001b[0;34m\u001b[0m\u001b[0m\n\u001b[0;32m----> 4\u001b[0;31m \u001b[0;32mfrom\u001b[0m \u001b[0msim\u001b[0m \u001b[0;32mimport\u001b[0m \u001b[0motto\u001b[0m\u001b[0;34m\u001b[0m\u001b[0;34m\u001b[0m\u001b[0m\n\u001b[0m\u001b[1;32m      5\u001b[0m \u001b[0mw\u001b[0m\u001b[0;34m=\u001b[0m\u001b[0minteractive\u001b[0m\u001b[0;34m(\u001b[0m\u001b[0motto\u001b[0m\u001b[0;34m,\u001b[0m\u001b[0mgamma1\u001b[0m\u001b[0;34m=\u001b[0m\u001b[0;34m(\u001b[0m\u001b[0;36m1.2\u001b[0m\u001b[0;34m,\u001b[0m\u001b[0;36m1.6\u001b[0m\u001b[0;34m)\u001b[0m\u001b[0;34m,\u001b[0m\u001b[0mgamma2\u001b[0m\u001b[0;34m=\u001b[0m\u001b[0;34m(\u001b[0m\u001b[0;36m1.2\u001b[0m\u001b[0;34m,\u001b[0m\u001b[0;36m1.6\u001b[0m\u001b[0;34m)\u001b[0m\u001b[0;34m)\u001b[0m\u001b[0;34m\u001b[0m\u001b[0;34m\u001b[0m\u001b[0m\n\u001b[1;32m      6\u001b[0m \u001b[0mw\u001b[0m\u001b[0;34m\u001b[0m\u001b[0;34m\u001b[0m\u001b[0m\n",
            "\u001b[0;31mModuleNotFoundError\u001b[0m: No module named 'sim'",
            "",
            "\u001b[0;31m---------------------------------------------------------------------------\u001b[0;32m\nNOTE: If your import is failing due to a missing package, you can\nmanually install dependencies using either !pip or !apt.\n\nTo view examples of installing some common dependencies, click the\n\"Open Examples\" button below.\n\u001b[0;31m---------------------------------------------------------------------------\u001b[0m\n"
          ],
          "errorDetails": {
            "actions": [
              {
                "action": "open_url",
                "actionText": "Open Examples",
                "url": "/notebooks/snippets/importing_libraries.ipynb"
              }
            ]
          }
        }
      ],
      "source": [
        "%matplotlib inline\n",
        "from ipywidgets import interactive, fixed\n",
        "\n",
        "from sim import otto\n",
        "w=interactive(otto,gamma1=(1.2,1.6),gamma2=(1.2,1.6))\n",
        "w"
      ]
    },
    {
      "cell_type": "code",
      "execution_count": null,
      "metadata": {
        "id": "PhMHfAtTc77W"
      },
      "outputs": [],
      "source": []
    }
  ],
  "metadata": {
    "kernelspec": {
      "display_name": "Python 3",
      "language": "python",
      "name": "python3"
    },
    "language_info": {
      "codemirror_mode": {
        "name": "ipython",
        "version": 3
      },
      "file_extension": ".py",
      "mimetype": "text/x-python",
      "name": "python",
      "nbconvert_exporter": "python",
      "pygments_lexer": "ipython3",
      "version": "3.8.5"
    },
    "colab": {
      "provenance": []
    }
  },
  "nbformat": 4,
  "nbformat_minor": 0
}